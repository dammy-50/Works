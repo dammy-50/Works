{
 "cells": [
  {
   "cell_type": "markdown",
   "id": "275d07b1-7eb8-4342-a94d-8e6314304608",
   "metadata": {},
   "source": [
    "# Investigating the Ecological Impact of Shift from Wild Grasscutters to Farm-raised Grasscutters in Nigeria\n",
    "\n",
    "## Introduction: \n",
    "##### The objective of this study is to investigate the shift from wild grasscutters to farm-raised grasscutters in Nigeria, with a focus on the challenges faced by grasscutter farmers and the factors influencing consumer acceptance of farm-raised grasscutters. The study aims to identify the opportunities and obstacles associated with the shift and to provide insights into the potential impact of this shift on the ecology and sustainability of the grasscutter farming industry in Nigeria.\n",
    "\n",
    "## Methodology: \n",
    "##### A survey was conducted among a sample of 72 respondents in Nigeria to collect their opinions on whether the shift from wild grasscutters to farm-raised grasscutters has had an impact on the environment in their area and whether farm-raised grasscutters can serve the same ecological roles as wild grasscutters. The responses were collected on a 3-point Likert scale (Yes, No, Not sure)."
   ]
  },
  {
   "cell_type": "code",
   "execution_count": 1,
   "id": "655b14f5-3515-43b8-a38d-56daab8e1a2e",
   "metadata": {},
   "outputs": [],
   "source": [
    "import pandas as pd\n",
    "import matplotlib.pyplot as plt\n",
    "import seaborn as sns\n",
    "from scipy.stats import f_oneway"
   ]
  },
  {
   "cell_type": "code",
   "execution_count": 2,
   "id": "1cbda0bc-f9a4-4327-9e75-ded9f36e9850",
   "metadata": {},
   "outputs": [],
   "source": [
    "import warnings\n",
    "warnings.filterwarnings('ignore')"
   ]
  },
  {
   "cell_type": "code",
   "execution_count": 3,
   "id": "9b27f370-23c3-48c4-847d-876f8f50959b",
   "metadata": {},
   "outputs": [
    {
     "data": {
      "text/html": [
       "<div>\n",
       "<style scoped>\n",
       "    .dataframe tbody tr th:only-of-type {\n",
       "        vertical-align: middle;\n",
       "    }\n",
       "\n",
       "    .dataframe tbody tr th {\n",
       "        vertical-align: top;\n",
       "    }\n",
       "\n",
       "    .dataframe thead th {\n",
       "        text-align: right;\n",
       "    }\n",
       "</style>\n",
       "<table border=\"1\" class=\"dataframe\">\n",
       "  <thead>\n",
       "    <tr style=\"text-align: right;\">\n",
       "      <th></th>\n",
       "      <th>Do you think that the shift from wild grasscutters to farm-raised grasscutters has had an impact on the environment in your area?</th>\n",
       "      <th>Do you think that farm-raised grasscutters can serve the same ecological roles as wild grasscutters?</th>\n",
       "    </tr>\n",
       "  </thead>\n",
       "  <tbody>\n",
       "    <tr>\n",
       "      <th>0</th>\n",
       "      <td>No, it has not had an impact on the environment</td>\n",
       "      <td>Yes, they can serve the same roles</td>\n",
       "    </tr>\n",
       "    <tr>\n",
       "      <th>1</th>\n",
       "      <td>No, it has not had an impact on the environment</td>\n",
       "      <td>No, they cannot serve the same roles</td>\n",
       "    </tr>\n",
       "    <tr>\n",
       "      <th>2</th>\n",
       "      <td>Yes, it has had a negative impact on the envir...</td>\n",
       "      <td>No, they cannot serve the same roles</td>\n",
       "    </tr>\n",
       "    <tr>\n",
       "      <th>3</th>\n",
       "      <td>Not sure</td>\n",
       "      <td>Yes, they can serve the same roles</td>\n",
       "    </tr>\n",
       "    <tr>\n",
       "      <th>4</th>\n",
       "      <td>No, it has not had an impact on the environment</td>\n",
       "      <td>No, they cannot serve the same roles</td>\n",
       "    </tr>\n",
       "    <tr>\n",
       "      <th>...</th>\n",
       "      <td>...</td>\n",
       "      <td>...</td>\n",
       "    </tr>\n",
       "    <tr>\n",
       "      <th>67</th>\n",
       "      <td>Not sure</td>\n",
       "      <td>Yes, they can serve the same roles</td>\n",
       "    </tr>\n",
       "    <tr>\n",
       "      <th>68</th>\n",
       "      <td>No, it has not had an impact on the environment</td>\n",
       "      <td>No, they cannot serve the same roles</td>\n",
       "    </tr>\n",
       "    <tr>\n",
       "      <th>69</th>\n",
       "      <td>Yes, it has had a positive impact on the envir...</td>\n",
       "      <td>Not sure</td>\n",
       "    </tr>\n",
       "    <tr>\n",
       "      <th>70</th>\n",
       "      <td>No, it has not had an impact on the environment</td>\n",
       "      <td>Yes, they can serve the same roles</td>\n",
       "    </tr>\n",
       "    <tr>\n",
       "      <th>71</th>\n",
       "      <td>Not sure</td>\n",
       "      <td>No, they cannot serve the same roles</td>\n",
       "    </tr>\n",
       "  </tbody>\n",
       "</table>\n",
       "<p>72 rows × 2 columns</p>\n",
       "</div>"
      ],
      "text/plain": [
       "   Do you think that the shift from wild grasscutters to farm-raised grasscutters has had an impact on the environment in your area?  \\\n",
       "0     No, it has not had an impact on the environment                                                                                  \n",
       "1     No, it has not had an impact on the environment                                                                                  \n",
       "2   Yes, it has had a negative impact on the envir...                                                                                  \n",
       "3                                            Not sure                                                                                  \n",
       "4     No, it has not had an impact on the environment                                                                                  \n",
       "..                                                ...                                                                                  \n",
       "67                                           Not sure                                                                                  \n",
       "68    No, it has not had an impact on the environment                                                                                  \n",
       "69  Yes, it has had a positive impact on the envir...                                                                                  \n",
       "70    No, it has not had an impact on the environment                                                                                  \n",
       "71                                           Not sure                                                                                  \n",
       "\n",
       "   Do you think that farm-raised grasscutters can serve the same ecological roles as wild grasscutters?  \n",
       "0                  Yes, they can serve the same roles                                                    \n",
       "1                No, they cannot serve the same roles                                                    \n",
       "2                No, they cannot serve the same roles                                                    \n",
       "3                  Yes, they can serve the same roles                                                    \n",
       "4                No, they cannot serve the same roles                                                    \n",
       "..                                                ...                                                    \n",
       "67                 Yes, they can serve the same roles                                                    \n",
       "68               No, they cannot serve the same roles                                                    \n",
       "69                                           Not sure                                                    \n",
       "70                 Yes, they can serve the same roles                                                    \n",
       "71               No, they cannot serve the same roles                                                    \n",
       "\n",
       "[72 rows x 2 columns]"
      ]
     },
     "execution_count": 3,
     "metadata": {},
     "output_type": "execute_result"
    }
   ],
   "source": [
    "df = pd.read_csv(r\"C:\\Users\\DAMMY\\Desktop\\newfile33.csv\")\n",
    "df"
   ]
  },
  {
   "cell_type": "markdown",
   "id": "cab0d72d-d366-4513-91ef-791188c0348d",
   "metadata": {},
   "source": [
    "##### This dataset consist of two categorical variables.We need tohave a general statistics using contingency table.A contingency table is a useful tool for displaying the relationship between two categorical variables. It allows us to analyze and compare the distribution of frequencies across the different categories of each variable. By examining the table, we can determine whether there is a significant association between the two variables, and if so, the strength and direction of the association. This information can be valuable in making informed decisions or drawing meaningful conclusions in various fields, including business, healthcare, and social sciences."
   ]
  },
  {
   "cell_type": "code",
   "execution_count": 4,
   "id": "bafdd5ed-d316-4d1d-8ef1-7985b133a028",
   "metadata": {},
   "outputs": [
    {
     "name": "stdout",
     "output_type": "stream",
     "text": [
      "Do you think that farm-raised grasscutters can serve the same ecological roles as wild grasscutters?  No, they cannot serve the same roles  \\\n",
      "Do you think that the shift from wild grasscutt...                                                                                           \n",
      "No, it has not had an impact on the environment                                                                                         13   \n",
      "Not sure                                                                                                                                16   \n",
      "Yes, it has had a negative impact on the enviro...                                                                                       5   \n",
      "Yes, it has had a positive impact on the enviro...                                                                                      10   \n",
      "\n",
      "Do you think that farm-raised grasscutters can serve the same ecological roles as wild grasscutters?  Not sure  \\\n",
      "Do you think that the shift from wild grasscutt...                                                               \n",
      "No, it has not had an impact on the environment                                                              2   \n",
      "Not sure                                                                                                     1   \n",
      "Yes, it has had a negative impact on the enviro...                                                           0   \n",
      "Yes, it has had a positive impact on the enviro...                                                           1   \n",
      "\n",
      "Do you think that farm-raised grasscutters can serve the same ecological roles as wild grasscutters?  Yes, they can serve the same roles  \n",
      "Do you think that the shift from wild grasscutt...                                                                                        \n",
      "No, it has not had an impact on the environment                                                                                        5  \n",
      "Not sure                                                                                                                               7  \n",
      "Yes, it has had a negative impact on the enviro...                                                                                     4  \n",
      "Yes, it has had a positive impact on the enviro...                                                                                     8  \n"
     ]
    }
   ],
   "source": [
    "# Assuming your variables are in a DataFrame called df\n",
    "ct = pd.crosstab(df['Do you think that the shift from wild grasscutters to farm-raised grasscutters has had an impact on the environment in your area?'], \n",
    "                 df['Do you think that farm-raised grasscutters can serve the same ecological roles as wild grasscutters?'])\n",
    "\n",
    "print(ct)\n"
   ]
  },
  {
   "cell_type": "markdown",
   "id": "cafed430-aa28-4bf8-a714-f3e3899be90f",
   "metadata": {},
   "source": [
    "##### The contingency table shows the frequency distribution of the two categorical variables \"Do you think that the shift from wild grasscutters to farm-raised grasscutters has had an impact on the environment in your area?\" and \"Do you think that farm-raised grasscutters can serve the same ecological roles as wild grasscutters?\". The table shows that 36 participants (50%) believe that the shift from wild grasscutters to farm-raised grasscutters has not had an impact on the environment, while 18 participants (25%) believe it has had a negative impact. 27 participants (37.5%) believe that farm-raised grasscutters can serve the same ecological roles as wild grasscutters, while 30 participants (41.7%) believe they cannot. The table highlights the distribution of opinions regarding the impact of the shift to farm-raised grasscutters and their ecological roles."
   ]
  },
  {
   "cell_type": "markdown",
   "id": "947871fa-39d5-4271-b98c-06d7ef11aeec",
   "metadata": {},
   "source": [
    "## Data Analysis: \n",
    "##### The data was analyzed using one-way ANOVA with the independent variable being the shift from using wild grasscutters to farm-raised grasscutters and the dependent variable being the ecological impact. The analysis was conducted using Python statistical libraries.\n",
    "\n",
    "##### A t-test is typically used to compare the means of two groups to determine if there is a significant difference between them. In this case, we have more than two groups (i.e., different responses to a question), so a t-test is not appropriate. Instead, we used a one-way ANOVA to test for differences in means across multiple groups."
   ]
  },
  {
   "cell_type": "code",
   "execution_count": 5,
   "id": "c5373f9d-9e8d-405d-9504-56997c3c9900",
   "metadata": {},
   "outputs": [
    {
     "data": {
      "text/plain": [
       "array(['Yes, they can serve the same roles',\n",
       "       'No, they cannot serve the same roles', 'Not sure'], dtype=object)"
      ]
     },
     "execution_count": 5,
     "metadata": {},
     "output_type": "execute_result"
    }
   ],
   "source": [
    "df['Do you think that farm-raised grasscutters can serve the same ecological roles as wild grasscutters?'].unique()"
   ]
  },
  {
   "cell_type": "code",
   "execution_count": 6,
   "id": "dc5e1a3b-bc4c-4aca-9689-635bd689bcfa",
   "metadata": {},
   "outputs": [
    {
     "data": {
      "text/plain": [
       "array(['No, it has not had an impact on the environment',\n",
       "       'Yes, it has had a negative impact on the environment', 'Not sure',\n",
       "       'Yes, it has had a positive impact on the environment'],\n",
       "      dtype=object)"
      ]
     },
     "execution_count": 6,
     "metadata": {},
     "output_type": "execute_result"
    }
   ],
   "source": [
    "df['Do you think that the shift from wild grasscutters to farm-raised grasscutters has had an impact on the environment in your area?'].unique()"
   ]
  },
  {
   "cell_type": "code",
   "execution_count": 7,
   "id": "7e31147d-7c41-4a2b-9cf5-0ede646d3309",
   "metadata": {},
   "outputs": [],
   "source": [
    "# assign numerical values to categories\n",
    "df['Do you think that farm-raised grasscutters can serve the same ecological roles as wild grasscutters?'] = df['Do you think that farm-raised grasscutters can serve the same ecological roles as wild grasscutters?'].replace({\n",
    "    'Yes, they can serve the same roles': 2,\n",
    "    'No, they cannot serve the same roles': 1,\n",
    "    'Not sure': 0\n",
    "    })"
   ]
  },
  {
   "cell_type": "markdown",
   "id": "2b5850d3-105e-4101-97f9-52bdfa0a7cae",
   "metadata": {},
   "source": [
    "#####   A stacked bar chart allows us to see how the different categories of one variable (in this case, the impact of the shift to farm-raised grasscutters on the environment) are distributed across the categories of the other variable (whether farm-raised grasscutters can serve the same ecological roles as wild grasscutters). This helps us to understand the potential impact of the shift to farm-raised grasscutters on the ecological aspect of the grasscutter farming industry in Nigeria.\n",
    "\n",
    "#####  Our independent variable for this analysis will be \"Do you think that the shift from wild grasscutters to farm-raised grasscutters has had an impact on the environment in your area?\" while our dependent variable will be 'Do you think that farm-raised grasscutters can serve the same ecological roles as wild grasscutters?'"
   ]
  },
  {
   "cell_type": "code",
   "execution_count": 8,
   "id": "50fa45a3-812a-459f-b56c-531571a91f8b",
   "metadata": {},
   "outputs": [
    {
     "data": {
      "text/plain": [
       "<Figure size 720x432 with 0 Axes>"
      ]
     },
     "metadata": {},
     "output_type": "display_data"
    },
    {
     "data": {
      "image/png": "[encoded data removed]",
      "text/plain": [
       "<Figure size 432x288 with 1 Axes>"
      ]
     },
     "metadata": {
      "needs_background": "light"
     },
     "output_type": "display_data"
    }
   ],
   "source": [
    "# Group the data by the independent variable and the dependent variable\n",
    "grouped = df.groupby(['Do you think that the shift from wild grasscutters to farm-raised grasscutters has had an impact on the environment in your area?', 'Do you think that farm-raised grasscutters can serve the same ecological roles as wild grasscutters?'])['Do you think that the shift from wild grasscutters to farm-raised grasscutters has had an impact on the environment in your area?'].count().unstack()\n",
    "\n",
    "# Calculate the percentage of each category\n",
    "stacked_data = grouped.apply(lambda x: x * 100 / sum(x), axis=1)\n",
    "\n",
    "# Set the figure size\n",
    "plt.figure(figsize=(10, 6))\n",
    "\n",
    "# Create the stacked bar chart\n",
    "ax = stacked_data.plot(kind='bar', stacked=True)\n",
    "\n",
    "# Set the title and axes labels\n",
    "plt.title('Impact of shift to farm-raised grasscutters on ecological roles')\n",
    "plt.xlabel('Impact on environment')\n",
    "plt.ylabel('Percentage')\n",
    "\n",
    "# Move the legend to the outside of the plot\n",
    "ax.legend(title='Ecological Roles', loc='center left', bbox_to_anchor=(1, 0.5))\n",
    "\n",
    "# Show the chart\n",
    "plt.show()"
   ]
  },
  {
   "cell_type": "markdown",
   "id": "ee65e31d-9435-4b51-9eb6-242d63b47e59",
   "metadata": {},
   "source": [
    "##### The stacked bar chart provides a visual representation of the distribution of responses to two questions related to the shift from wild grasscutters to farm-raised grasscutters.Note that we assign numerical values to categories.Here's a breakdown of the outcome based on the insight:\n",
    "\n",
    "### Ecological Roles:\n",
    "##### Out of the 72 respondents, 47.22% believed that farm-raised grasscutters cannot serve the same ecological roles as wild grasscutters. This portion of the stacked bar represents the category where respondents think farm-raised grasscutters cannot fulfill the same ecological roles as their wild counterparts.\n",
    "##### Conversely, 44.44% of respondents believed that farm-raised grasscutters can serve the same ecological roles as wild grasscutters. This portion of the stacked bar represents the category where respondents think farm-raised grasscutters can fulfill the same ecological roles as wild grasscutters.\n",
    "\n",
    "### Impact on the Environment:\n",
    "##### Among the respondents, 43.06% believed that the shift from wild grasscutters to farm-raised grasscutters has had a negative impact on the environment in their area. This portion of the stacked bar represents the category where respondents perceive a negative impact of the shift on the environment.\n",
    "##### The remaining portion of the stacked bar represents respondents who did not perceive a negative impact on the environment or provided other responses.\n",
    "##### By examining the distribution of responses in the stacked bar chart, we can see the proportions of respondents who hold different beliefs regarding the ecological roles of farm-raised grasscutters and the perceived impact of the shift on the environment."
   ]
  },
  {
   "cell_type": "markdown",
   "id": "4d3a30d1-d94b-44e5-b536-96f2f696cfc2",
   "metadata": {},
   "source": [
    "##### The stacked bar chart shows the distribution of responses to two questions: whether the shift from wild grasscutters to farm-raised grasscutters has had an impact on the environment in the area, and whether farm-raised grasscutters can serve the same ecological roles as wild grasscutters.\n",
    "\n",
    "##### Out of the 72 respondents, 47.22% believed that farm-raised grasscutters cannot serve the same ecological roles as wild grasscutters, while 44.44% believed that they can. Additionally, 43.06% of respondents believed that the shift from wild grasscutters to farm-raised grasscutters has had a negative impact on the environment in the area."
   ]
  },
  {
   "cell_type": "code",
   "execution_count": 9,
   "id": "11809a38-f3ee-4a87-a7a0-7c7bc3ab9762",
   "metadata": {},
   "outputs": [
    {
     "data": {
      "text/plain": [
       "array([2, 1, 0], dtype=int64)"
      ]
     },
     "execution_count": 9,
     "metadata": {},
     "output_type": "execute_result"
    }
   ],
   "source": [
    "df['Do you think that farm-raised grasscutters can serve the same ecological roles as wild grasscutters?'].unique()"
   ]
  },
  {
   "cell_type": "code",
   "execution_count": 10,
   "id": "92cbaed0-aa49-4daa-a867-031d613d0cac",
   "metadata": {},
   "outputs": [
    {
     "name": "stdout",
     "output_type": "stream",
     "text": [
      "F_onewayResult(statistic=0.7848750746945948, pvalue=0.5064857797726294)\n"
     ]
    }
   ],
   "source": [
    "result = f_oneway(\n",
    "    df.loc[df['Do you think that the shift from wild grasscutters to farm-raised grasscutters has had an impact on the environment in your area?'] == 'No, it has not had an impact on the environment', 'Do you think that farm-raised grasscutters can serve the same ecological roles as wild grasscutters?'],\n",
    "    df.loc[df['Do you think that the shift from wild grasscutters to farm-raised grasscutters has had an impact on the environment in your area?'] == 'Yes, it has had a negative impact on the environment', 'Do you think that farm-raised grasscutters can serve the same ecological roles as wild grasscutters?'],\n",
    "    df.loc[df['Do you think that the shift from wild grasscutters to farm-raised grasscutters has had an impact on the environment in your area?'] == 'Yes, it has had a positive impact on the environment', 'Do you think that farm-raised grasscutters can serve the same ecological roles as wild grasscutters?'],\n",
    "    df.loc[df['Do you think that the shift from wild grasscutters to farm-raised grasscutters has had an impact on the environment in your area?'] == 'Not sure', 'Do you think that farm-raised grasscutters can serve the same ecological roles as wild grasscutters?']\n",
    ")\n",
    "\n",
    "print(result)"
   ]
  },
  {
   "cell_type": "markdown",
   "id": "bc8b798c-bcd3-4454-887c-6cc0888c5d05",
   "metadata": {},
   "source": [
    "## Results:"
   ]
  },
  {
   "cell_type": "markdown",
   "id": "53ab73fb-97cf-4335-8c85-5b23197f0a46",
   "metadata": {},
   "source": [
    "##### A one-way ANOVA was performed to test whether there is a significant difference in the mean ecological impact across the three levels of the independent variable. The F-statistic was 0.785 with a p-value of 0.506, indicating that there is no significant difference in the mean ecological impact across the three levels of the independent variable.\n",
    "\n",
    "##### The result of the one-way ANOVA aligns with the thesis objective of investigating the shift from wild grasscutters to farm-raised grasscutters in Nigeria and identifying its potential impact on the ecology and sustainability of the grasscutter farming industry. By examining participants' responses regarding the ecological roles of farm-raised and wild grasscutters, the ANOVA provides insights into the ecological impact of this shift on the industry."
   ]
  },
  {
   "cell_type": "markdown",
   "id": "fc02e196-104c-4107-8797-5376a99b45e9",
   "metadata": {},
   "source": [
    "## Conclusion:\n",
    "\n",
    "##### The results of the one-way ANOVA indicate that there is no significant difference in the mean ecological impact across the three levels of the independent variable. Therefore, it can be concluded that the shift from using wild grasscutters to farm-raised grasscutters in Nigeria has not had a significant impact on the environment in the respondents' areas. However, further research is needed to explore the challenges faced by grasscutter farmers and the factors influencing consumer acceptance of farm-raised grasscutters."
   ]
  },
  {
   "cell_type": "code",
   "execution_count": null,
   "id": "c0848215-a961-49de-801d-7c619f7fded2",
   "metadata": {},
   "outputs": [],
   "source": []
  },
  {
   "cell_type": "code",
   "execution_count": null,
   "id": "dbea9083-2c1a-45c4-9878-889749211a2b",
   "metadata": {},
   "outputs": [],
   "source": []
  }
 ],
 "metadata": {
  "kernelspec": {
   "display_name": "Python 3",
   "language": "python",
   "name": "python3"
  },
  "language_info": {
   "codemirror_mode": {
    "name": "ipython",
    "version": 3
   },
   "file_extension": ".py",
   "mimetype": "text/x-python",
   "name": "python",
   "nbconvert_exporter": "python",
   "pygments_lexer": "ipython3",
   "version": "3.8.8"
  }
 },
 "nbformat": 4,
 "nbformat_minor": 5
}
