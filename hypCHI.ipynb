{
 "cells": [
  {
   "cell_type": "markdown",
   "id": "9d79409c-07bc-4c9f-953b-5cf36735e8f9",
   "metadata": {},
   "source": [
    "# Analysis of Consumer Attitudes Towards Grasscutter Grown on Farms\n",
    "##### In this analysis, we will examine whether the population changes in wild grasscutters have influenced consumer attitudes towards grasscutter grown on farms. Specifically, we will use a chi-square test to determine if there is a significant difference between the attitudes of consumers who are aware of the change from wild grasscutters to farm-raised grasscutters, and those who are not aware  of the change."
   ]
  },
  {
   "cell_type": "code",
   "execution_count": null,
   "id": "03910c8d-235a-4e41-8a3a-d0f8e801db23",
   "metadata": {},
   "outputs": [],
   "source": []
  },
  {
   "cell_type": "markdown",
   "id": "65bf19ac-8dea-4469-8451-e3af53b6023b",
   "metadata": {},
   "source": [
    "### Dataset\n",
    "##### The dataset used for this analysis consists of responses from consumers who were asked about their attitudes towards grasscutter meat produced on farms. In addition to their attitudes, consumers were also asked whether they were aware of any changes in the population of wild grasscutters in recent years.\n",
    "\n",
    "### Data Preparation\n",
    "##### Before conducting the chi-square test, we need to prepare our data. We will start by importing the necessary Python libraries and loading the dataset:"
   ]
  },
  {
   "cell_type": "code",
   "execution_count": null,
   "id": "cd497c4a-67c7-45b0-8106-ff2a90b54c6d",
   "metadata": {},
   "outputs": [],
   "source": [
    "import numpy as np\n",
    "import pandas as pd\n",
    "import scipy.stats as stats\n",
    "from scipy.stats import chisquare\n",
    "from scipy.stats import chi2_contingency"
   ]
  },
  {
   "cell_type": "code",
   "execution_count": null,
   "id": "009beb1e-debf-41c8-83f6-f6f2cb243f91",
   "metadata": {},
   "outputs": [],
   "source": [
    "import warnings\n",
    "warnings.filterwarnings('ignore')"
   ]
  },
  {
   "cell_type": "code",
   "execution_count": null,
   "id": "f1669302-eb4a-46d6-b627-6df5ff068a2b",
   "metadata": {},
   "outputs": [],
   "source": [
    "\n",
    "df = pd.read_csv(r\"C:\\Users\\DAMMY\\Desktop\\newfile.csv\")\n",
    "df"
   ]
  },
  {
   "cell_type": "code",
   "execution_count": null,
   "id": "b14b5ae3-e8d4-48b4-911e-4a936d679342",
   "metadata": {},
   "outputs": [],
   "source": []
  },
  {
   "cell_type": "code",
   "execution_count": null,
   "id": "ad3d3123-21a3-4a10-aa92-07dcc8f946d1",
   "metadata": {},
   "outputs": [],
   "source": [
    "df = df.drop('Unnamed: 2', axis=1)\n",
    "DF"
   ]
  },
  {
   "cell_type": "code",
   "execution_count": null,
   "id": "24a678f0-d9d0-4379-baf2-f1b2f81c70a6",
   "metadata": {},
   "outputs": [],
   "source": [
    "df['Can you purchase grasscutter meat from a farm?'].unique()"
   ]
  },
  {
   "cell_type": "code",
   "execution_count": null,
   "id": "bbe664a3-74a5-43cb-ba21-57028845d4d8",
   "metadata": {},
   "outputs": [],
   "source": [
    "df[\"Can you purchase grasscutter meat from a farm?\"] = df[\"Can you purchase grasscutter meat from a farm?\"].replace(\"Not\", \"No\")"
   ]
  },
  {
   "cell_type": "code",
   "execution_count": null,
   "id": "fe9c60a5-05d0-491d-8c14-2fbcaeb28ba8",
   "metadata": {},
   "outputs": [],
   "source": [
    "df['Can you purchase grasscutter meat from a farm?'].unique()"
   ]
  },
  {
   "cell_type": "code",
   "execution_count": null,
   "id": "e380d96d-6b1b-4575-88fa-d5d1efee0422",
   "metadata": {},
   "outputs": [],
   "source": [
    "df.head()"
   ]
  },
  {
   "cell_type": "markdown",
   "id": "2cb0178a-c522-4610-9d6d-3d4b40b8346c",
   "metadata": {},
   "source": [
    "### Chi-Square Test\n",
    "##### Now that our data is loaded, we can perform the chi-square test. First, we need to create a contingency table to show the frequency distribution of attitudes by awareness\n",
    "##### We will perform the chi-square test of independence using the chi2_contingency function and print the results, including the test statistic, p-value, degrees of freedom, and expected frequencies."
   ]
  },
  {
   "cell_type": "code",
   "execution_count": null,
   "id": "9df641ca-ddcd-497e-89e9-79a325316457",
   "metadata": {},
   "outputs": [],
   "source": [
    "# Create the contingency table\n",
    "contingency_table = pd.crosstab(df['Wild grasscutter changes in recent years?'], df['Can you purchase grasscutter meat from a farm?'])\n",
    "contingency_table"
   ]
  },
  {
   "cell_type": "markdown",
   "id": "33b1cf0b-ca49-4945-973b-df242637e064",
   "metadata": {},
   "source": [
    "##### The output of the above code shows a contingency table with the frequency distribution of attitudes by awareness.\n",
    "\n",
    "##### Next, we can use the chi2_contingency() function from the scipy.stats library to calculate the chi-square statistic, p-value, degrees of freedom, and expected frequencies:"
   ]
  },
  {
   "cell_type": "code",
   "execution_count": null,
   "id": "b7d6a1a5-4df3-4dba-bbf5-4959cd797e07",
   "metadata": {},
   "outputs": [],
   "source": [
    "# Perform the chi-square test\n",
    "chi2, p, dof, expected = chi2_contingency(contingency_table)\n"
   ]
  },
  {
   "cell_type": "markdown",
   "id": "ae6f6745-5c46-4c34-b21c-e2305321a998",
   "metadata": {},
   "source": [
    "##### The output of the below code will show the chi-square statistic, p-value, degrees of freedom, and expected frequencies."
   ]
  },
  {
   "cell_type": "code",
   "execution_count": null,
   "id": "dc0eef87-0d0f-4a62-bf60-923196fa465b",
   "metadata": {},
   "outputs": [],
   "source": [
    "# Print out the results\n",
    "print('Chi-square statistic:', chi2)\n",
    "print('p-value:', p)\n",
    "print('Degrees of freedom:', dof)\n",
    "print('Expected frequencies:', expected)\n",
    "\n",
    "# Draw a conclusion\n",
    "if p < 0.05:\n",
    "    print('The Wild grasscutter changes in recent years and the ability to purchase grasscutter meat from a farm are dependent.')\n",
    "else:\n",
    "    print('The Wild grasscutter changes in recent years and the ability to purchase grasscutter meat from a farm are independent.')\n"
   ]
  },
  {
   "cell_type": "markdown",
   "id": "177cbd4d-fea3-41df-a864-cf7ea1144153",
   "metadata": {},
   "source": [
    "##### The p-value is less than 0.05, which means that we can reject the null hypothesis that the Wild grasscutter changes in recent years and the ability to purchase grasscutter meat from a farm are independent. Therefore, we can conclude that there is a significant wide relationship between these two variables.\n",
    "\n",
    "##### In summary, based on the chi-square analysis, it appears that there is a relationship between Wild grasscutter changes in recent years and the ability to purchase grasscutter meat from a farm. However, this analysis does not indicate the direction or strength of this relationship"
   ]
  },
  {
   "cell_type": "markdown",
   "id": "444751e2-6d6e-4629-b006-f814b845b790",
   "metadata": {},
   "source": [
    "#### To indicate the direction or strength of the relationship between the two variables, I calculated the effect size using Cramer's V.\n",
    "#### Cramer's V is calculated using the following formula:\n",
    "\n",
    "V = sqrt( X^2 / (n * (min(r, c) - 1)))\n",
    "\n",
    "##### Where:\n",
    "\n",
    "###### ^2 is the chi-square statistic\n",
    "###### n is the total sample size\n",
    "###### r is the number of rows in the contingency table\n",
    "###### c is the number of columns in the contingency table\n",
    "##### Cramer's V ranges from 0 to 1, with larger values indicating a stronger relationship between the variables. A value of 0 indicates no relationship, while a value of 1 indicates a perfect relationship."
   ]
  },
  {
   "cell_type": "code",
   "execution_count": null,
   "id": "46393bcf-8fc7-4886-b0b3-a6099794c3ad",
   "metadata": {},
   "outputs": [],
   "source": [
    "\n",
    "# calculate chi-square statistic and p-value\n",
    "chi2, p, dof, expected = stats.chi2_contingency(contingency_table)\n",
    "\n",
    "# calculate Cramer's V\n",
    "n = contingency_table.sum().sum()\n",
    "r = contingency_table.shape[0]\n",
    "c = contingency_table.shape[1]\n",
    "V = np.sqrt(chi2 / (n * (min(r, c) - 1)))\n",
    "\n",
    "print('The Cramer\\'s V value is:', V)\n"
   ]
  },
  {
   "cell_type": "markdown",
   "id": "442b03e6-1145-47cd-aaff-8e2fe74828e2",
   "metadata": {},
   "source": [
    "##### Based on the chi-square analysis conducted with a Cramer's V value of 0.71072, there was a significant association between the type of grasscutter (farm-raised or wild) and consumers' attitudes towards them in Nigeria (Chi-square statistic: 72.74, p-value: 1.12e-13, degrees of freedom: 6). This finding supports the objective of investigating the shift from wild grasscutters to farm-raised grasscutters in Nigeria and the factors influencing consumer acceptance of farm-raised grasscutters. The study also identified substantial variations in consumers' attitudes towards grasscutters grown on farms and in the wild, which could have implications for the sustainability of the grasscutter farming industry in Nigeria."
   ]
  },
  {
   "cell_type": "code",
   "execution_count": null,
   "id": "b5b816d4-a126-45db-9e99-57144c052231",
   "metadata": {},
   "outputs": [],
   "source": []
  }
 ],
 "metadata": {
  "kernelspec": {
   "display_name": "Python 3",
   "language": "python",
   "name": "python3"
  },
  "language_info": {
   "codemirror_mode": {
    "name": "ipython",
    "version": 3
   },
   "file_extension": ".py",
   "mimetype": "text/x-python",
   "name": "python",
   "nbconvert_exporter": "python",
   "pygments_lexer": "ipython3",
   "version": "3.8.8"
  }
 },
 "nbformat": 4,
 "nbformat_minor": 5
}
