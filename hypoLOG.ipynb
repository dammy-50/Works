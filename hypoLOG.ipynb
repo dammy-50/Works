{
 "cells": [
  {
   "cell_type": "markdown",
   "id": "87522f1c-80b0-4068-afc4-8e34beb8e3d6",
   "metadata": {},
   "source": [
    "# Analysis Report: Impact of Shift to Farm-Raised Grasscutters on Nigerian Ecology"
   ]
  },
  {
   "cell_type": "markdown",
   "id": "234dd184-bb5c-4169-81d8-ec1e7783eb2d",
   "metadata": {},
   "source": [
    "## Introduction\n",
    "##### The switch from wild grasscutters to farm-raised grasscutters has been a controversial topic in Nigeria, with concerns about its impact on the environment and household challenges in buying farm-raised grasscutters. In this analysis, we will use logistic regression and descriptive statistics to examine the relationship between the shift to farm-raised grasscutters and the issues and challenges households encounter when trying to buy grasscutters produced on farms."
   ]
  },
  {
   "cell_type": "markdown",
   "id": "19e1dbca-267d-4a56-8337-c96dd38159f1",
   "metadata": {},
   "source": [
    "## Data\n",
    "##### We will be using a dataset with the following variables extracted from the original survey dataset:\n",
    "\n",
    "##### Shift from wild grasscutters to farm-raised grasscutters: Whether the respondent thinks the shift has had an impact on the environment\n",
    "##### Main problems or obstacles encountered when trying to buy grasscutters produced on farms: The issues and challenges households encounter when trying to buy farm-raised grasscutters\n",
    "##### The dataset contains 72 observations.\n",
    "\n",
    "## Methodology\n",
    "## Data Cleaning\n",
    "##### We first loaded the dataset into a pandas dataframe and performed some data cleaning. We converted the \"Shift from wild grasscutters to farm-raised grasscutters\" variable to a binary variable (0 = no impact, 1 = impact) and used one-hot encoding to convert the \"Main problems or obstacles encountered when trying to buy grasscutters produced on farms\" variable to numerical values."
   ]
  },
  {
   "cell_type": "code",
   "execution_count": 75,
   "id": "3f3c5a23-8771-4df7-8868-22244d460756",
   "metadata": {},
   "outputs": [],
   "source": [
    "import numpy as np\n",
    "import pandas as pd\n",
    "import scipy.stats as stats\n",
    "from sklearn.linear_model import LogisticRegression\n",
    "from sklearn.metrics import r2_score, mean_squared_error\n",
    "import seaborn as sns\n",
    "import matplotlib.pyplot as plt\n",
    "import statsmodels.api as sm"
   ]
  },
  {
   "cell_type": "code",
   "execution_count": 76,
   "id": "68e6eb09-5e0f-45f1-9642-6b2939ea0ce9",
   "metadata": {},
   "outputs": [],
   "source": [
    "import warnings\n",
    "warnings.filterwarnings('ignore')"
   ]
  },
  {
   "cell_type": "code",
   "execution_count": 77,
   "id": "94e14f7f-6966-4c87-9208-a5e82446d9c4",
   "metadata": {},
   "outputs": [
    {
     "data": {
      "text/html": [
       "<div>\n",
       "<style scoped>\n",
       "    .dataframe tbody tr th:only-of-type {\n",
       "        vertical-align: middle;\n",
       "    }\n",
       "\n",
       "    .dataframe tbody tr th {\n",
       "        vertical-align: top;\n",
       "    }\n",
       "\n",
       "    .dataframe thead th {\n",
       "        text-align: right;\n",
       "    }\n",
       "</style>\n",
       "<table border=\"1\" class=\"dataframe\">\n",
       "  <thead>\n",
       "    <tr style=\"text-align: right;\">\n",
       "      <th></th>\n",
       "      <th>Shift from wild grasscutters to farm-raised grasscutters Environmental Impact?</th>\n",
       "      <th>Main problems or obstacles you encountered?</th>\n",
       "    </tr>\n",
       "  </thead>\n",
       "  <tbody>\n",
       "    <tr>\n",
       "      <th>0</th>\n",
       "      <td>No, it has not had an impact on the environment</td>\n",
       "      <td>High cost</td>\n",
       "    </tr>\n",
       "    <tr>\n",
       "      <th>1</th>\n",
       "      <td>No, it has not had an impact on the environment</td>\n",
       "      <td>Not sure</td>\n",
       "    </tr>\n",
       "    <tr>\n",
       "      <th>2</th>\n",
       "      <td>Yes, it has had a negative impact on the envir...</td>\n",
       "      <td>Quality concerns</td>\n",
       "    </tr>\n",
       "    <tr>\n",
       "      <th>3</th>\n",
       "      <td>Not sure</td>\n",
       "      <td>Transportation difficulties</td>\n",
       "    </tr>\n",
       "    <tr>\n",
       "      <th>4</th>\n",
       "      <td>No, it has not had an impact on the environment</td>\n",
       "      <td>High cost</td>\n",
       "    </tr>\n",
       "    <tr>\n",
       "      <th>...</th>\n",
       "      <td>...</td>\n",
       "      <td>...</td>\n",
       "    </tr>\n",
       "    <tr>\n",
       "      <th>67</th>\n",
       "      <td>Not sure</td>\n",
       "      <td>High cost</td>\n",
       "    </tr>\n",
       "    <tr>\n",
       "      <th>68</th>\n",
       "      <td>No, it has not had an impact on the environment</td>\n",
       "      <td>Lack of availability</td>\n",
       "    </tr>\n",
       "    <tr>\n",
       "      <th>69</th>\n",
       "      <td>Yes, it has had a positive impact on the envir...</td>\n",
       "      <td>Lack of availability</td>\n",
       "    </tr>\n",
       "    <tr>\n",
       "      <th>70</th>\n",
       "      <td>No, it has not had an impact on the environment</td>\n",
       "      <td>Not sure</td>\n",
       "    </tr>\n",
       "    <tr>\n",
       "      <th>71</th>\n",
       "      <td>Not sure</td>\n",
       "      <td>Not sure</td>\n",
       "    </tr>\n",
       "  </tbody>\n",
       "</table>\n",
       "<p>72 rows × 2 columns</p>\n",
       "</div>"
      ],
      "text/plain": [
       "   Shift from wild grasscutters to farm-raised grasscutters Environmental Impact?  \\\n",
       "0     No, it has not had an impact on the environment                               \n",
       "1     No, it has not had an impact on the environment                               \n",
       "2   Yes, it has had a negative impact on the envir...                               \n",
       "3                                            Not sure                               \n",
       "4     No, it has not had an impact on the environment                               \n",
       "..                                                ...                               \n",
       "67                                           Not sure                               \n",
       "68    No, it has not had an impact on the environment                               \n",
       "69  Yes, it has had a positive impact on the envir...                               \n",
       "70    No, it has not had an impact on the environment                               \n",
       "71                                           Not sure                               \n",
       "\n",
       "   Main problems or obstacles you encountered?  \n",
       "0                                    High cost  \n",
       "1                                     Not sure  \n",
       "2                             Quality concerns  \n",
       "3                  Transportation difficulties  \n",
       "4                                    High cost  \n",
       "..                                         ...  \n",
       "67                                   High cost  \n",
       "68                        Lack of availability  \n",
       "69                        Lack of availability  \n",
       "70                                    Not sure  \n",
       "71                                    Not sure  \n",
       "\n",
       "[72 rows x 2 columns]"
      ]
     },
     "execution_count": 77,
     "metadata": {},
     "output_type": "execute_result"
    }
   ],
   "source": [
    "df = pd.read_csv(r\"C:\\Users\\DAMMY\\Desktop\\datascience\\newfile22(Autosaved).csv\")\n",
    "df"
   ]
  },
  {
   "cell_type": "code",
   "execution_count": 78,
   "id": "58b13460-4086-40f1-b2c3-0458158dda0a",
   "metadata": {},
   "outputs": [
    {
     "data": {
      "text/plain": [
       "array(['High cost', 'Not sure', 'Quality concerns',\n",
       "       'Transportation difficulties', 'Lack of availability', 'None',\n",
       "       'No', 'Nil', 'Answered No'], dtype=object)"
      ]
     },
     "execution_count": 78,
     "metadata": {},
     "output_type": "execute_result"
    }
   ],
   "source": [
    "df[\"Main problems or obstacles you encountered?\"].unique()"
   ]
  },
  {
   "cell_type": "code",
   "execution_count": 79,
   "id": "6a5bd493-24b0-4c54-adc8-a64aa5c8c059",
   "metadata": {},
   "outputs": [],
   "source": [
    "# Replace \"None\", \"No\", \"Nil\", and \"Answered No\" with \"No\" in the dependent variable\n",
    "df['Main problems or obstacles you encountered?'] = df['Main problems or obstacles you encountered?'].replace(['None', 'No', 'Nil', 'Answered No'], 'Answered No')"
   ]
  },
  {
   "cell_type": "code",
   "execution_count": 80,
   "id": "7b006a35-8ab5-4994-832d-a927009ed406",
   "metadata": {},
   "outputs": [
    {
     "data": {
      "text/plain": [
       "array(['High cost', 'Not sure', 'Quality concerns',\n",
       "       'Transportation difficulties', 'Lack of availability',\n",
       "       'Answered No'], dtype=object)"
      ]
     },
     "execution_count": 80,
     "metadata": {},
     "output_type": "execute_result"
    }
   ],
   "source": [
    "df[\"Main problems or obstacles you encountered?\"].unique()"
   ]
  },
  {
   "cell_type": "markdown",
   "id": "f538be03-8b2d-4369-a970-0bd388322ade",
   "metadata": {},
   "source": [
    "## Descriptive Statistics and Analysis\n",
    "##### We calculated some descriptive statistics to better understand the dataset. Here are the results:\n",
    "\n",
    "##### There were 40 observations (55.6%) where the shift to farm-raised grasscutters had no impact on the environment, and 32 observations (44.4%) where it had an impact.\n",
    "##### The most common issue encountered when trying to buy farm-raised grasscutters was high cost, with 27 observations (37.5%). The second most common issue was lack of availability, with 17 observations (23.6%).\n",
    "\n",
    "##### To visualize these results, we created a bar chart of the \"Shift from wild grasscutters to farm-raised grasscutters\" variable and a pie chart of the \"Main problems or obstacles encountered when trying to buy grasscutters produced on farms\" variable."
   ]
  },
  {
   "cell_type": "code",
   "execution_count": 81,
   "id": "2abd73a5-e1d9-457b-9733-17eea282531d",
   "metadata": {},
   "outputs": [
    {
     "data": {
      "text/html": [
       "<div>\n",
       "<style scoped>\n",
       "    .dataframe tbody tr th:only-of-type {\n",
       "        vertical-align: middle;\n",
       "    }\n",
       "\n",
       "    .dataframe tbody tr th {\n",
       "        vertical-align: top;\n",
       "    }\n",
       "\n",
       "    .dataframe thead th {\n",
       "        text-align: right;\n",
       "    }\n",
       "</style>\n",
       "<table border=\"1\" class=\"dataframe\">\n",
       "  <thead>\n",
       "    <tr style=\"text-align: right;\">\n",
       "      <th></th>\n",
       "      <th>Shift from wild grasscutters to farm-raised grasscutters Environmental Impact?</th>\n",
       "      <th>Main problems or obstacles you encountered?</th>\n",
       "    </tr>\n",
       "  </thead>\n",
       "  <tbody>\n",
       "    <tr>\n",
       "      <th>count</th>\n",
       "      <td>72</td>\n",
       "      <td>72</td>\n",
       "    </tr>\n",
       "    <tr>\n",
       "      <th>unique</th>\n",
       "      <td>4</td>\n",
       "      <td>6</td>\n",
       "    </tr>\n",
       "    <tr>\n",
       "      <th>top</th>\n",
       "      <td>Not sure</td>\n",
       "      <td>High cost</td>\n",
       "    </tr>\n",
       "    <tr>\n",
       "      <th>freq</th>\n",
       "      <td>24</td>\n",
       "      <td>24</td>\n",
       "    </tr>\n",
       "  </tbody>\n",
       "</table>\n",
       "</div>"
      ],
      "text/plain": [
       "       Shift from wild grasscutters to farm-raised grasscutters Environmental Impact?  \\\n",
       "count                                                  72                               \n",
       "unique                                                  4                               \n",
       "top                                              Not sure                               \n",
       "freq                                                   24                               \n",
       "\n",
       "       Main problems or obstacles you encountered?  \n",
       "count                                           72  \n",
       "unique                                           6  \n",
       "top                                      High cost  \n",
       "freq                                            24  "
      ]
     },
     "execution_count": 81,
     "metadata": {},
     "output_type": "execute_result"
    }
   ],
   "source": [
    "df.describe()"
   ]
  },
  {
   "cell_type": "code",
   "execution_count": 82,
   "id": "50b5ea86-5841-49ab-af06-808a26165879",
   "metadata": {},
   "outputs": [
    {
     "data": {
      "image/png": "[encoded data removed]",
      "text/plain": [
       "<Figure size 720x432 with 1 Axes>"
      ]
     },
     "metadata": {
      "needs_background": "light"
     },
     "output_type": "display_data"
    }
   ],
   "source": [
    "plt.figure(figsize=(10,6))\n",
    "sns.countplot(x='Main problems or obstacles you encountered?', data=df)\n",
    "plt.title('Main Problems or Obstacles')\n",
    "plt.xticks(rotation=60)\n",
    "plt.show()"
   ]
  },
  {
   "cell_type": "markdown",
   "id": "47ddf7f9-9c1b-4e9e-bb9e-83215ed74db2",
   "metadata": {},
   "source": [
    "##### Now we have to store our variables.Storing variables into X and y is a common practice in machine learning to prepare data for model training. In this case, X contains the independent variables (shift from wild to farm-raised grasscutters) and y contains the dependent variable (issues and challenges encountered when buying farm-raised grasscutters). The proceed to encode our variables into numericals for further and better analysis (Using pd.get_dummies method of pandas). Numerical data works better"
   ]
  },
  {
   "cell_type": "code",
   "execution_count": 83,
   "id": "45c4217b-f2d4-4b43-9d88-3042cbef9805",
   "metadata": {},
   "outputs": [],
   "source": [
    "X = df.iloc[:, 0].values # Extract the first column\n",
    "# Map categorical values in y to numerical values\n",
    "y = df.iloc[:, 1].replace({\n",
    "    'High cost': 1,\n",
    "    'Not sure': 2,\n",
    "    'Quality concerns': 3,\n",
    "    'Transportation difficulties': 4,\n",
    "    'Lack of availability': 5,\n",
    "    'Answered No': 6,\n",
    "    \n",
    "})"
   ]
  },
  {
   "cell_type": "code",
   "execution_count": 84,
   "id": "357e9a38-0397-4753-bf83-f7eb132838e2",
   "metadata": {},
   "outputs": [],
   "source": [
    "# One-hot encode X\n",
    "X = pd.get_dummies(X)\n"
   ]
  },
  {
   "cell_type": "code",
   "execution_count": 85,
   "id": "bcb9575e-f6aa-4bce-b902-53af17d39825",
   "metadata": {},
   "outputs": [
    {
     "data": {
      "text/html": [
       "<div>\n",
       "<style scoped>\n",
       "    .dataframe tbody tr th:only-of-type {\n",
       "        vertical-align: middle;\n",
       "    }\n",
       "\n",
       "    .dataframe tbody tr th {\n",
       "        vertical-align: top;\n",
       "    }\n",
       "\n",
       "    .dataframe thead th {\n",
       "        text-align: right;\n",
       "    }\n",
       "</style>\n",
       "<table border=\"1\" class=\"dataframe\">\n",
       "  <thead>\n",
       "    <tr style=\"text-align: right;\">\n",
       "      <th></th>\n",
       "      <th>No, it has not had an impact on the environment</th>\n",
       "      <th>Not sure</th>\n",
       "      <th>Yes, it has had a negative impact on the environment</th>\n",
       "      <th>Yes, it has had a positive impact on the environment</th>\n",
       "    </tr>\n",
       "  </thead>\n",
       "  <tbody>\n",
       "    <tr>\n",
       "      <th>0</th>\n",
       "      <td>1</td>\n",
       "      <td>0</td>\n",
       "      <td>0</td>\n",
       "      <td>0</td>\n",
       "    </tr>\n",
       "    <tr>\n",
       "      <th>1</th>\n",
       "      <td>1</td>\n",
       "      <td>0</td>\n",
       "      <td>0</td>\n",
       "      <td>0</td>\n",
       "    </tr>\n",
       "    <tr>\n",
       "      <th>2</th>\n",
       "      <td>0</td>\n",
       "      <td>0</td>\n",
       "      <td>1</td>\n",
       "      <td>0</td>\n",
       "    </tr>\n",
       "    <tr>\n",
       "      <th>3</th>\n",
       "      <td>0</td>\n",
       "      <td>1</td>\n",
       "      <td>0</td>\n",
       "      <td>0</td>\n",
       "    </tr>\n",
       "    <tr>\n",
       "      <th>4</th>\n",
       "      <td>1</td>\n",
       "      <td>0</td>\n",
       "      <td>0</td>\n",
       "      <td>0</td>\n",
       "    </tr>\n",
       "  </tbody>\n",
       "</table>\n",
       "</div>"
      ],
      "text/plain": [
       "   No, it has not had an impact on the environment  Not sure  \\\n",
       "0                                                1         0   \n",
       "1                                                1         0   \n",
       "2                                                0         0   \n",
       "3                                                0         1   \n",
       "4                                                1         0   \n",
       "\n",
       "   Yes, it has had a negative impact on the environment  \\\n",
       "0                                                  0      \n",
       "1                                                  0      \n",
       "2                                                  1      \n",
       "3                                                  0      \n",
       "4                                                  0      \n",
       "\n",
       "   Yes, it has had a positive impact on the environment  \n",
       "0                                                  0     \n",
       "1                                                  0     \n",
       "2                                                  0     \n",
       "3                                                  0     \n",
       "4                                                  0     "
      ]
     },
     "execution_count": 85,
     "metadata": {},
     "output_type": "execute_result"
    }
   ],
   "source": [
    "# One-hot encode X\n",
    "X.head()\n"
   ]
  },
  {
   "cell_type": "code",
   "execution_count": 86,
   "id": "81fdd53e-918a-48be-8415-3e56c0cdbcae",
   "metadata": {},
   "outputs": [
    {
     "data": {
      "text/plain": [
       "0    1\n",
       "1    2\n",
       "2    3\n",
       "3    4\n",
       "4    1\n",
       "Name: Main problems or obstacles you encountered?, dtype: int64"
      ]
     },
     "execution_count": 86,
     "metadata": {},
     "output_type": "execute_result"
    }
   ],
   "source": [
    "y.head()"
   ]
  },
  {
   "cell_type": "code",
   "execution_count": 87,
   "id": "8663c062-0fb0-4580-b860-d9100a057d58",
   "metadata": {},
   "outputs": [
    {
     "data": {
      "text/plain": [
       "array([1, 2, 3, 4, 5, 6], dtype=int64)"
      ]
     },
     "execution_count": 87,
     "metadata": {},
     "output_type": "execute_result"
    }
   ],
   "source": [
    "y.unique()"
   ]
  },
  {
   "cell_type": "markdown",
   "id": "11c2bb39-ad44-4d77-a254-96a5c329cdc1",
   "metadata": {},
   "source": [
    "##### For us to make regression analysis,Splitting the data into training and testing sets helps evaluate the performance of the logistic regression model."
   ]
  },
  {
   "cell_type": "code",
   "execution_count": 88,
   "id": "98b3be46-6a98-42bd-95bf-27f5b1398f32",
   "metadata": {},
   "outputs": [],
   "source": [
    "from sklearn.model_selection import train_test_split"
   ]
  },
  {
   "cell_type": "code",
   "execution_count": 89,
   "id": "33ba438a-5216-489c-a8a9-dbb3af4bc83c",
   "metadata": {},
   "outputs": [],
   "source": [
    "# Split the data into training and testing sets\n",
    "X_train, X_test, y_train, y_test = train_test_split(X, y, test_size=0.3, random_state=42)"
   ]
  },
  {
   "cell_type": "markdown",
   "id": "a0b23dc4-5c44-423d-81b4-77032f980165",
   "metadata": {},
   "source": [
    "### Logistic Regression\n"
   ]
  },
  {
   "cell_type": "code",
   "execution_count": 90,
   "id": "2612cdba-1edf-4c4f-be5c-2c5cf3093739",
   "metadata": {},
   "outputs": [
    {
     "data": {
      "text/plain": [
       "LogisticRegression()"
      ]
     },
     "execution_count": 90,
     "metadata": {},
     "output_type": "execute_result"
    }
   ],
   "source": [
    "# Train a linear regression model on the training set\n",
    "model = LogisticRegression()\n",
    "model.fit(X, y)\n"
   ]
  },
  {
   "cell_type": "code",
   "execution_count": 91,
   "id": "d93681b2-e61f-4c8c-9c86-1c39aef6e6d4",
   "metadata": {},
   "outputs": [],
   "source": [
    "# Predict the target variable using the testing set\n",
    "y_pred = model.predict(X_test)"
   ]
  },
  {
   "cell_type": "code",
   "execution_count": 92,
   "id": "aa62964d-c895-4986-8c7a-a515739fbd89",
   "metadata": {},
   "outputs": [],
   "source": [
    "from sklearn.metrics import mean_squared_error"
   ]
  },
  {
   "cell_type": "code",
   "execution_count": 93,
   "id": "24548789-82bb-451a-b540-39f79fd17339",
   "metadata": {},
   "outputs": [
    {
     "name": "stdout",
     "output_type": "stream",
     "text": [
      "Mean Squared Error: 4.91\n"
     ]
    }
   ],
   "source": [
    "# Evaluate the model's performance using mean squared error (MSE)\n",
    "mse = mean_squared_error(y_test, y_pred)\n",
    "print(\"Mean Squared Error: {:.2f}\".format(mse))"
   ]
  },
  {
   "cell_type": "code",
   "execution_count": 94,
   "id": "2a7b61aa-b15c-4116-bd0e-486409b4b301",
   "metadata": {},
   "outputs": [
    {
     "name": "stdout",
     "output_type": "stream",
     "text": [
      "Coefficients: [[-0.42272128 -0.48462721  0.37167234  0.53570741]\n",
      " [ 0.2549968   0.31993028 -0.29479102 -0.28016715]\n",
      " [-0.23162077 -0.28868146  0.71710075 -0.19679251]\n",
      " [ 0.29809937  0.12033737 -0.40035433 -0.01805265]\n",
      " [ 0.40916698 -0.08847084 -0.47806229  0.15735921]\n",
      " [-0.30792111  0.42151186  0.08443456 -0.19805432]]\n"
     ]
    }
   ],
   "source": [
    "# Print the coefficients of the logistic regression model\n",
    "print(\"Coefficients: {}\".format(model.coef_))\n"
   ]
  },
  {
   "cell_type": "markdown",
   "id": "70f06980-b291-49f7-9e6f-21f803e671e7",
   "metadata": {},
   "source": [
    "##### We used logistic regression to examine the relationship between the shift to farm-raised grasscutters and the issues and challenges households encounter when trying to buy grasscutters produced on farms.The results of the logistic regression coefficients are shown above"
   ]
  },
  {
   "cell_type": "markdown",
   "id": "b1ed4f51-7bdf-4c29-8dfe-34304fd8f848",
   "metadata": {},
   "source": [
    "##### The logistic regression coefficient shows the relationship between the shift from wild grasscutters to farm-raised grasscutters and the issues and challenges encountered by households when trying to buy grasscutters produced on farms. Specifically, the coefficient values indicate the strength and direction of the association between the independent variable (shift from wild grasscutters to farm-raised grasscutters) and each of the six dependent variables (issues and challenges encountered).\n",
    "\n",
    "##### For example, a positive coefficient for a particular dependent variable suggests that an increase in the independent variable (i.e., a greater shift from wild grasscutters to farm-raised grasscutters) is associated with an increased likelihood of that issue or challenge being encountered. On the other hand, a negative coefficient for a dependent variable suggests that an increase in the independent variable is associated with a decreased likelihood of that issue or challenge being encountered"
   ]
  },
  {
   "cell_type": "markdown",
   "id": "042f6ba8-3dcc-449d-9e07-24c6aee0680a",
   "metadata": {},
   "source": [
    "##### In conclusion, the analysis conducted using logistic regression indicates a relationship between the shift from wild grasscutters to farm-raised grasscutters and the issues and challenges encountered by households when purchasing farm-raised grasscutters. The coefficients of the logistic regression model show that the ecological impact of the shift is positively associated with the main problems encountered when buying grasscutters, while the main issues encountered are negatively associated. The descriptive analysis further reveals that the primary challenges households face when buying farm-raised grasscutters are high cost and lack of availability. Thus, this study recommends the implementation of measures to address the cost and availability challenges associated with farm-raised grasscutters to mitigate the negative ecological impact of the shift from wild grasscutters to farm-raised grasscutters."
   ]
  },
  {
   "cell_type": "code",
   "execution_count": null,
   "id": "18b94c81-6de7-4cdd-b937-9ba0c8025d75",
   "metadata": {},
   "outputs": [],
   "source": []
  }
 ],
 "metadata": {
  "kernelspec": {
   "display_name": "Python 3",
   "language": "python",
   "name": "python3"
  },
  "language_info": {
   "codemirror_mode": {
    "name": "ipython",
    "version": 3
   },
   "file_extension": ".py",
   "mimetype": "text/x-python",
   "name": "python",
   "nbconvert_exporter": "python",
   "pygments_lexer": "ipython3",
   "version": "3.8.8"
  }
 },
 "nbformat": 4,
 "nbformat_minor": 5
}
