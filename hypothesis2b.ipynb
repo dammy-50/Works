{
 "cells": [
  {
   "cell_type": "code",
   "execution_count": 1,
   "id": "f2f75c89-25dd-4dba-8d07-3ba78ecc7a74",
   "metadata": {},
   "outputs": [],
   "source": [
    "# Import libraries\n",
    "import pandas as pd\n",
    "import numpy as np\n",
    "import seaborn as sns\n",
    "import matplotlib.pyplot as plt\n",
    "from sklearn.linear_model import LogisticRegression\n",
    "from sklearn.metrics import confusion_matrix, classification_report\n",
    "from sklearn.preprocessing import LabelEncoder\n",
    "from sklearn.model_selection import train_test_split"
   ]
  },
  {
   "cell_type": "code",
   "execution_count": 2,
   "id": "47e7c1e6-956f-4187-bc8b-e4803d1fc03f",
   "metadata": {},
   "outputs": [],
   "source": [
    "import warnings\n",
    "warnings.filterwarnings('ignore')"
   ]
  },
  {
   "cell_type": "code",
   "execution_count": 3,
   "id": "eed6c6aa-b648-4b35-9877-63610e12949d",
   "metadata": {},
   "outputs": [
    {
     "data": {
      "text/html": [
       "<div>\n",
       "<style scoped>\n",
       "    .dataframe tbody tr th:only-of-type {\n",
       "        vertical-align: middle;\n",
       "    }\n",
       "\n",
       "    .dataframe tbody tr th {\n",
       "        vertical-align: top;\n",
       "    }\n",
       "\n",
       "    .dataframe thead th {\n",
       "        text-align: right;\n",
       "    }\n",
       "</style>\n",
       "<table border=\"1\" class=\"dataframe\">\n",
       "  <thead>\n",
       "    <tr style=\"text-align: right;\">\n",
       "      <th></th>\n",
       "      <th>Shift from wild grasscutters to farm-raised grasscutters Environmental Impact?</th>\n",
       "      <th>Main problems or obstacles you encountered?</th>\n",
       "    </tr>\n",
       "  </thead>\n",
       "  <tbody>\n",
       "    <tr>\n",
       "      <th>0</th>\n",
       "      <td>No, it has not had an impact on the environment</td>\n",
       "      <td>High cost</td>\n",
       "    </tr>\n",
       "    <tr>\n",
       "      <th>1</th>\n",
       "      <td>No, it has not had an impact on the environment</td>\n",
       "      <td>Not sure</td>\n",
       "    </tr>\n",
       "    <tr>\n",
       "      <th>2</th>\n",
       "      <td>Yes, it has had a negative impact on the envir...</td>\n",
       "      <td>Quality concerns</td>\n",
       "    </tr>\n",
       "    <tr>\n",
       "      <th>3</th>\n",
       "      <td>Not sure</td>\n",
       "      <td>Transportation difficulties</td>\n",
       "    </tr>\n",
       "    <tr>\n",
       "      <th>4</th>\n",
       "      <td>No, it has not had an impact on the environment</td>\n",
       "      <td>High cost</td>\n",
       "    </tr>\n",
       "    <tr>\n",
       "      <th>...</th>\n",
       "      <td>...</td>\n",
       "      <td>...</td>\n",
       "    </tr>\n",
       "    <tr>\n",
       "      <th>67</th>\n",
       "      <td>Not sure</td>\n",
       "      <td>High cost</td>\n",
       "    </tr>\n",
       "    <tr>\n",
       "      <th>68</th>\n",
       "      <td>No, it has not had an impact on the environment</td>\n",
       "      <td>Lack of availability</td>\n",
       "    </tr>\n",
       "    <tr>\n",
       "      <th>69</th>\n",
       "      <td>Yes, it has had a positive impact on the envir...</td>\n",
       "      <td>Lack of availability</td>\n",
       "    </tr>\n",
       "    <tr>\n",
       "      <th>70</th>\n",
       "      <td>No, it has not had an impact on the environment</td>\n",
       "      <td>Not sure</td>\n",
       "    </tr>\n",
       "    <tr>\n",
       "      <th>71</th>\n",
       "      <td>Not sure</td>\n",
       "      <td>Not sure</td>\n",
       "    </tr>\n",
       "  </tbody>\n",
       "</table>\n",
       "<p>72 rows × 2 columns</p>\n",
       "</div>"
      ],
      "text/plain": [
       "   Shift from wild grasscutters to farm-raised grasscutters Environmental Impact?  \\\n",
       "0     No, it has not had an impact on the environment                               \n",
       "1     No, it has not had an impact on the environment                               \n",
       "2   Yes, it has had a negative impact on the envir...                               \n",
       "3                                            Not sure                               \n",
       "4     No, it has not had an impact on the environment                               \n",
       "..                                                ...                               \n",
       "67                                           Not sure                               \n",
       "68    No, it has not had an impact on the environment                               \n",
       "69  Yes, it has had a positive impact on the envir...                               \n",
       "70    No, it has not had an impact on the environment                               \n",
       "71                                           Not sure                               \n",
       "\n",
       "   Main problems or obstacles you encountered?  \n",
       "0                                    High cost  \n",
       "1                                     Not sure  \n",
       "2                             Quality concerns  \n",
       "3                  Transportation difficulties  \n",
       "4                                    High cost  \n",
       "..                                         ...  \n",
       "67                                   High cost  \n",
       "68                        Lack of availability  \n",
       "69                        Lack of availability  \n",
       "70                                    Not sure  \n",
       "71                                    Not sure  \n",
       "\n",
       "[72 rows x 2 columns]"
      ]
     },
     "execution_count": 3,
     "metadata": {},
     "output_type": "execute_result"
    }
   ],
   "source": [
    "df = pd.read_csv(r\"C:\\Users\\DAMMY\\Desktop\\datascience\\newfile22(Autosaved).csv\")\n",
    "df"
   ]
  },
  {
   "cell_type": "code",
   "execution_count": 4,
   "id": "b1f57775-e682-4277-bde3-553a8fb5cac8",
   "metadata": {},
   "outputs": [
    {
     "name": "stdout",
     "output_type": "stream",
     "text": [
      "<class 'pandas.core.frame.DataFrame'>\n",
      "RangeIndex: 72 entries, 0 to 71\n",
      "Data columns (total 2 columns):\n",
      " #   Column                                                                          Non-Null Count  Dtype \n",
      "---  ------                                                                          --------------  ----- \n",
      " 0   Shift from wild grasscutters to farm-raised grasscutters Environmental Impact?  72 non-null     object\n",
      " 1   Main problems or obstacles you encountered?                                     72 non-null     object\n",
      "dtypes: object(2)\n",
      "memory usage: 1.2+ KB\n"
     ]
    }
   ],
   "source": [
    "df.info()"
   ]
  },
  {
   "cell_type": "code",
   "execution_count": 5,
   "id": "e3f3a033-c442-484f-800a-3c996160a792",
   "metadata": {},
   "outputs": [
    {
     "data": {
      "text/html": [
       "<div>\n",
       "<style scoped>\n",
       "    .dataframe tbody tr th:only-of-type {\n",
       "        vertical-align: middle;\n",
       "    }\n",
       "\n",
       "    .dataframe tbody tr th {\n",
       "        vertical-align: top;\n",
       "    }\n",
       "\n",
       "    .dataframe thead th {\n",
       "        text-align: right;\n",
       "    }\n",
       "</style>\n",
       "<table border=\"1\" class=\"dataframe\">\n",
       "  <thead>\n",
       "    <tr style=\"text-align: right;\">\n",
       "      <th></th>\n",
       "      <th>Shift from wild grasscutters to farm-raised grasscutters Environmental Impact?</th>\n",
       "      <th>Main problems or obstacles you encountered?</th>\n",
       "    </tr>\n",
       "  </thead>\n",
       "  <tbody>\n",
       "    <tr>\n",
       "      <th>count</th>\n",
       "      <td>72</td>\n",
       "      <td>72</td>\n",
       "    </tr>\n",
       "    <tr>\n",
       "      <th>unique</th>\n",
       "      <td>4</td>\n",
       "      <td>9</td>\n",
       "    </tr>\n",
       "    <tr>\n",
       "      <th>top</th>\n",
       "      <td>Not sure</td>\n",
       "      <td>High cost</td>\n",
       "    </tr>\n",
       "    <tr>\n",
       "      <th>freq</th>\n",
       "      <td>24</td>\n",
       "      <td>24</td>\n",
       "    </tr>\n",
       "  </tbody>\n",
       "</table>\n",
       "</div>"
      ],
      "text/plain": [
       "       Shift from wild grasscutters to farm-raised grasscutters Environmental Impact?  \\\n",
       "count                                                  72                               \n",
       "unique                                                  4                               \n",
       "top                                              Not sure                               \n",
       "freq                                                   24                               \n",
       "\n",
       "       Main problems or obstacles you encountered?  \n",
       "count                                           72  \n",
       "unique                                           9  \n",
       "top                                      High cost  \n",
       "freq                                            24  "
      ]
     },
     "execution_count": 5,
     "metadata": {},
     "output_type": "execute_result"
    }
   ],
   "source": [
    "df.describe()"
   ]
  },
  {
   "cell_type": "code",
   "execution_count": 6,
   "id": "cece87b4-084a-470c-8cdf-c95744e01b1b",
   "metadata": {},
   "outputs": [],
   "source": [
    "df['Shift from wild grasscutters to farm-raised grasscutters Environmental Impact?'].replace({'No, it has not had an impact on the environment': 0,\n",
    "                                      'Not sure': 1,\n",
    "                                      'Yes, it has had a negative impact on the environment': 2,\n",
    "                                      'Yes, it has had a positive impact on the environment': 3}, inplace=True)"
   ]
  },
  {
   "cell_type": "code",
   "execution_count": 7,
   "id": "622e070c-fd37-499b-ac80-f54c713d864d",
   "metadata": {},
   "outputs": [],
   "source": [
    "df['Main problems or obstacles you encountered?'] = df['Main problems or obstacles you encountered?'].replace(['None', 'No', 'Nil', 'Answered No'], 'Answered No')"
   ]
  },
  {
   "cell_type": "code",
   "execution_count": 8,
   "id": "b962ea0a-1468-4c79-8a19-cbc827b6a2e2",
   "metadata": {},
   "outputs": [
    {
     "data": {
      "image/png": "[encoded data removed]",
      "text/plain": [
       "<Figure size 432x288 with 1 Axes>"
      ]
     },
     "metadata": {
      "needs_background": "light"
     },
     "output_type": "display_data"
    }
   ],
   "source": [
    "sns.countplot(x='Shift from wild grasscutters to farm-raised grasscutters Environmental Impact?', data=df)\n",
    "plt.title('Environmental Impact')\n",
    "plt.show()"
   ]
  },
  {
   "cell_type": "code",
   "execution_count": 9,
   "id": "f219ae03-ac22-4d2c-9fa0-d57cf4773e99",
   "metadata": {},
   "outputs": [
    {
     "data": {
      "image/png": "[encoded data removed]",
      "text/plain": [
       "<Figure size 432x288 with 2 Axes>"
      ]
     },
     "metadata": {
      "needs_background": "light"
     },
     "output_type": "display_data"
    }
   ],
   "source": [
    "corr = df.corr()\n",
    "sns.heatmap(corr, annot=True)\n",
    "plt.title('Correlation Analysis')\n",
    "plt.show()"
   ]
  },
  {
   "cell_type": "code",
   "execution_count": 11,
   "id": "f337a1ed-c616-426d-9d9d-62b0367729a4",
   "metadata": {},
   "outputs": [],
   "source": [
    "# Logistic regression\n",
    "X = df.iloc[:, :-1].values\n",
    "y = df.iloc[:, -1].values\n",
    "encoder = LabelEncoder()\n",
    "y = encoder.fit_transform(y)"
   ]
  },
  {
   "cell_type": "code",
   "execution_count": 12,
   "id": "94e27e75-a62c-4fd3-83f7-48f48b204d8c",
   "metadata": {},
   "outputs": [],
   "source": [
    "X_train, X_test, y_train, y_test = train_test_split(X, y, test_size=0.3, random_state=0)"
   ]
  },
  {
   "cell_type": "code",
   "execution_count": 13,
   "id": "e9bf8d34-9994-4fb5-b43c-f5480998f91f",
   "metadata": {},
   "outputs": [],
   "source": [
    "classifier = LogisticRegression(random_state=0)\n",
    "classifier.fit(X_train, y_train)\n",
    "y_pred = classifier.predict(X_test)"
   ]
  },
  {
   "cell_type": "code",
   "execution_count": 14,
   "id": "88cbf0a9-bdfc-493e-be28-b23de0370666",
   "metadata": {},
   "outputs": [
    {
     "name": "stdout",
     "output_type": "stream",
     "text": [
      "[[0 0 0 2 0]\n",
      " [0 2 0 5 0]\n",
      " [0 2 0 7 0]\n",
      " [0 0 0 3 0]\n",
      " [0 0 0 1 0]]\n",
      "              precision    recall  f1-score   support\n",
      "\n",
      "           0       0.00      0.00      0.00         2\n",
      "           1       0.50      0.29      0.36         7\n",
      "           2       0.00      0.00      0.00         9\n",
      "           3       0.17      1.00      0.29         3\n",
      "           5       0.00      0.00      0.00         1\n",
      "\n",
      "    accuracy                           0.23        22\n",
      "   macro avg       0.13      0.26      0.13        22\n",
      "weighted avg       0.18      0.23      0.15        22\n",
      "\n"
     ]
    }
   ],
   "source": [
    "# Model evaluation\n",
    "print(confusion_matrix(y_test, y_pred))\n",
    "print(classification_report(y_test, y_pred))"
   ]
  },
  {
   "cell_type": "code",
   "execution_count": 16,
   "id": "aabf85df-6c6b-4158-950b-bae00c1adeaa",
   "metadata": {},
   "outputs": [
    {
     "data": {
      "image/png": "[encoded data removed]",
      "text/plain": [
       "<Figure size 432x288 with 2 Axes>"
      ]
     },
     "metadata": {
      "needs_background": "light"
     },
     "output_type": "display_data"
    }
   ],
   "source": [
    "sns.heatmap(confusion_matrix(y_test, y_pred), annot=True)\n",
    "plt.title('Confusion Matrix')\n",
    "plt.xlabel('Predicted')\n",
    "plt.ylabel('True')\n",
    "plt.show()"
   ]
  },
  {
   "cell_type": "code",
   "execution_count": 15,
   "id": "e9d8d4b9-99de-4752-ae09-9c1bc14de8c1",
   "metadata": {},
   "outputs": [
    {
     "name": "stdout",
     "output_type": "stream",
     "text": [
      "The correlation analysis suggests that there is a weak correlation between the variables. The logistic regression model suggests that there is no significant impact of the shift from wild grasscutters to farm-raised grasscutters on the main problems or obstacles encountered when trying to buy grasscutters produced on farms. The model accuracy is low, which indicates that there might be other factors that contribute to the main problems or obstacles encountered when trying to buy grasscutters produced on farms. Further research is required to investigate these factors and their impact on the ecology in Nigeria.\n"
     ]
    }
   ],
   "source": [
    "# Conclusion\n",
    "print('The correlation analysis suggests that there is a weak correlation between the variables. The logistic regression model suggests that there is no significant impact of the shift from wild grasscutters to farm-raised grasscutters on the main problems or obstacles encountered when trying to buy grasscutters produced on farms. The model accuracy is low, which indicates that there might be other factors that contribute to the main problems or obstacles encountered when trying to buy grasscutters produced on farms. Further research is required to investigate these factors and their impact on the ecology in Nigeria.') "
   ]
  },
  {
   "cell_type": "code",
   "execution_count": null,
   "id": "52e5d011-5faa-42cc-beef-b6124c34eba4",
   "metadata": {},
   "outputs": [],
   "source": []
  }
 ],
 "metadata": {
  "kernelspec": {
   "display_name": "Python 3",
   "language": "python",
   "name": "python3"
  },
  "language_info": {
   "codemirror_mode": {
    "name": "ipython",
    "version": 3
   },
   "file_extension": ".py",
   "mimetype": "text/x-python",
   "name": "python",
   "nbconvert_exporter": "python",
   "pygments_lexer": "ipython3",
   "version": "3.8.8"
  }
 },
 "nbformat": 4,
 "nbformat_minor": 5
}
